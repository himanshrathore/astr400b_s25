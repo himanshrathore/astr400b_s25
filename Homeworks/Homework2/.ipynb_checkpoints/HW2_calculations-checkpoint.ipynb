{
 "cells": [
  {
   "cell_type": "markdown",
   "id": "8e381705",
   "metadata": {},
   "source": [
    "# Auxiliary operations for HW2"
   ]
  },
  {
   "cell_type": "code",
   "execution_count": 10,
   "id": "39f6edf3",
   "metadata": {},
   "outputs": [],
   "source": [
    "import numpy as np\n",
    "import ReadFile\n",
    "import ParticleProperties\n",
    "import astropy.units as u"
   ]
  },
  {
   "cell_type": "markdown",
   "id": "4f412d32",
   "metadata": {},
   "source": [
    "## Snapshot"
   ]
  },
  {
   "cell_type": "code",
   "execution_count": 2,
   "id": "7958b96e",
   "metadata": {},
   "outputs": [],
   "source": [
    "snap = './MW_000.txt'"
   ]
  },
  {
   "cell_type": "markdown",
   "id": "9856380c",
   "metadata": {},
   "source": [
    "## Testing the ReadFile function"
   ]
  },
  {
   "cell_type": "code",
   "execution_count": 3,
   "id": "9c89996f",
   "metadata": {},
   "outputs": [],
   "source": [
    "time, n_tot, data = ReadFile.Read(snap)"
   ]
  },
  {
   "cell_type": "markdown",
   "id": "f9418dcd",
   "metadata": {},
   "source": [
    "### Testing labels"
   ]
  },
  {
   "cell_type": "code",
   "execution_count": 4,
   "id": "f9b17a20",
   "metadata": {},
   "outputs": [
    {
     "data": {
      "text/latex": [
       "$0 \\; \\mathrm{Myr}$"
      ],
      "text/plain": [
       "<Quantity 0. Myr>"
      ]
     },
     "execution_count": 4,
     "metadata": {},
     "output_type": "execute_result"
    }
   ],
   "source": [
    "time"
   ]
  },
  {
   "cell_type": "code",
   "execution_count": 5,
   "id": "3270c024",
   "metadata": {},
   "outputs": [
    {
     "data": {
      "text/plain": [
       "135000"
      ]
     },
     "execution_count": 5,
     "metadata": {},
     "output_type": "execute_result"
    }
   ],
   "source": [
    "n_tot"
   ]
  },
  {
   "cell_type": "code",
   "execution_count": 6,
   "id": "6d4f3d61",
   "metadata": {},
   "outputs": [
    {
     "name": "stdout",
     "output_type": "stream",
     "text": [
      "1.0\n",
      "0.00394985\n",
      "-286.601\n",
      "298.455\n",
      "391.692\n",
      "50.2658\n",
      "-46.4521\n",
      "15.1825\n"
     ]
    }
   ],
   "source": [
    "print(data['type'][1]) #type of the 2nd particle\n",
    "print(data['m'][1]) #mass of the 2nd particle\n",
    "print(data['x'][1]) #x position of the 2nd particle\n",
    "print(data['y'][1]) #y position of the 2nd particle\n",
    "print(data['z'][1]) #z position of the 2nd particle\n",
    "print(data['vx'][1]) #vx of the 2nd particle\n",
    "print(data['vy'][1]) #vy of the 2nd particle\n",
    "print(data['vz'][1]) #vz of the 2nd particle"
   ]
  },
  {
   "cell_type": "code",
   "execution_count": 7,
   "id": "ab4ec227",
   "metadata": {},
   "outputs": [
    {
     "data": {
      "text/plain": [
       "'\\nActual values:\\nTime      0.00000\\nTotal      135000\\n1.00000   0.00394985     -286.601      298.455      391.692      50.2658     -46.4521      15.1825\\n'"
      ]
     },
     "execution_count": 7,
     "metadata": {},
     "output_type": "execute_result"
    }
   ],
   "source": [
    "'''\n",
    "Actual values:\n",
    "Time      0.00000\n",
    "Total      135000\n",
    "1.00000   0.00394985     -286.601      298.455      391.692      50.2658     -46.4521      15.1825\n",
    "'''"
   ]
  },
  {
   "cell_type": "markdown",
   "id": "81f9c96f",
   "metadata": {},
   "source": [
    "## Testing the ParticleProperties function"
   ]
  },
  {
   "cell_type": "code",
   "execution_count": 8,
   "id": "8abce441",
   "metadata": {},
   "outputs": [],
   "source": [
    "#determining the properties of the 100th disk particle in snapshot 0\n",
    "\n",
    "distance, speed, mass = ParticleProperties.ParticleInfo(snap, 2, 99) #100th particle means index 99"
   ]
  },
  {
   "cell_type": "code",
   "execution_count": 9,
   "id": "a0073602",
   "metadata": {},
   "outputs": [
    {
     "name": "stdout",
     "output_type": "stream",
     "text": [
      "4.245 kpc\n",
      "312.135 km / s\n",
      "1000000.0 solMass\n"
     ]
    }
   ],
   "source": [
    "print(distance)\n",
    "print(speed)\n",
    "print(mass)"
   ]
  },
  {
   "cell_type": "code",
   "execution_count": 12,
   "id": "6a8dea14",
   "metadata": {},
   "outputs": [
    {
     "name": "stdout",
     "output_type": "stream",
     "text": [
      "13845.338 lyr\n"
     ]
    }
   ],
   "source": [
    "distance_ly = np.round(distance.to(u.lightyear), 3)\n",
    "print(distance_ly)"
   ]
  }
 ],
 "metadata": {
  "kernelspec": {
   "display_name": "Python 3 (ipykernel)",
   "language": "python",
   "name": "python3"
  },
  "language_info": {
   "codemirror_mode": {
    "name": "ipython",
    "version": 3
   },
   "file_extension": ".py",
   "mimetype": "text/x-python",
   "name": "python",
   "nbconvert_exporter": "python",
   "pygments_lexer": "ipython3",
   "version": "3.9.12"
  }
 },
 "nbformat": 4,
 "nbformat_minor": 5
}
