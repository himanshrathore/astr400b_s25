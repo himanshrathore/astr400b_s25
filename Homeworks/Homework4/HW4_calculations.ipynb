{
 "cells": [
  {
   "cell_type": "markdown",
   "id": "df680217",
   "metadata": {},
   "source": [
    "# Calculations for HW4"
   ]
  },
  {
   "cell_type": "code",
   "execution_count": 1,
   "id": "ac1a1543",
   "metadata": {},
   "outputs": [],
   "source": [
    "import numpy as np\n",
    "from CenterOfMass import CenterOfMass"
   ]
  },
  {
   "cell_type": "markdown",
   "id": "50d062a3",
   "metadata": {},
   "source": [
    "## Q6, part 1"
   ]
  },
  {
   "cell_type": "code",
   "execution_count": 2,
   "id": "4a338974",
   "metadata": {},
   "outputs": [
    {
     "name": "stdout",
     "output_type": "stream",
     "text": [
      "CHANGE =  0.22978104414074885\n",
      "maxR 11.020481333398111\n",
      "CHANGE =  0.47043363423848117\n",
      "maxR 5.5102406666990555\n",
      "CHANGE =  0.20089037674475652\n",
      "maxR 2.7551203333495278\n",
      "CHANGE =  0.030187165196947863\n",
      "maxR 1.3775601666747639\n",
      "[-2.07  2.95 -1.45] kpc\n",
      "[ 1.  6. -1.] km / s\n"
     ]
    }
   ],
   "source": [
    "#MW\n",
    "MW_COM = CenterOfMass('MW_000.txt', 2)\n",
    "MW_COM_p = MW_COM.COM_P(0.1)\n",
    "print(MW_COM_p)\n",
    "MW_COM_v = MW_COM.COM_V(MW_COM_p[0], MW_COM_p[1], MW_COM_p[2])\n",
    "print(MW_COM_v)"
   ]
  },
  {
   "cell_type": "code",
   "execution_count": 3,
   "id": "e8a0b0b5",
   "metadata": {},
   "outputs": [
    {
     "name": "stdout",
     "output_type": "stream",
     "text": [
      "CHANGE =  0.04459429679900495\n",
      "maxR 16.68229943877858\n",
      "[-377.66  611.43 -284.64] kpc\n",
      "[ 73. -72.  49.] km / s\n"
     ]
    }
   ],
   "source": [
    "#M31\n",
    "M31_COM = CenterOfMass('M31_000.txt', 2)\n",
    "M31_COM_p = M31_COM.COM_P(0.1)\n",
    "print(M31_COM_p)\n",
    "M31_COM_v = M31_COM.COM_V(M31_COM_p[0], M31_COM_p[1], M31_COM_p[2])\n",
    "print(M31_COM_v)"
   ]
  },
  {
   "cell_type": "code",
   "execution_count": 4,
   "id": "a29e93d4",
   "metadata": {},
   "outputs": [
    {
     "name": "stdout",
     "output_type": "stream",
     "text": [
      "CHANGE =  0.01308865872044862\n",
      "maxR 3.9330197268235163\n",
      "[-476.22  491.44 -412.4 ] kpc\n",
      "[ 44. 102. 142.] km / s\n"
     ]
    }
   ],
   "source": [
    "#M33\n",
    "M33_COM = CenterOfMass('M33_000.txt', 2)\n",
    "M33_COM_p = M33_COM.COM_P(0.1)\n",
    "print(M33_COM_p)\n",
    "M33_COM_v = M33_COM.COM_V(M33_COM_p[0], M33_COM_p[1], M33_COM_p[2])\n",
    "print(M33_COM_v)"
   ]
  },
  {
   "cell_type": "markdown",
   "id": "b2fcd54d",
   "metadata": {},
   "source": [
    "## Q6 part 2"
   ]
  },
  {
   "cell_type": "code",
   "execution_count": 11,
   "id": "d6a4a30e",
   "metadata": {},
   "outputs": [
    {
     "name": "stdout",
     "output_type": "stream",
     "text": [
      "769.098 kpc\n"
     ]
    }
   ],
   "source": [
    "rel_sep_MW_M31 = np.sqrt(np.sum((M31_COM_p - MW_COM_p)**2))\n",
    "print(np.round(rel_sep_MW_M31, 3))"
   ]
  },
  {
   "cell_type": "code",
   "execution_count": 12,
   "id": "42f5ecc4",
   "metadata": {},
   "outputs": [
    {
     "name": "stdout",
     "output_type": "stream",
     "text": [
      "117.337 km / s\n"
     ]
    }
   ],
   "source": [
    "rel_vel_MW_M31 = np.sqrt(np.sum((M31_COM_v - MW_COM_v)**2))\n",
    "print(np.round(rel_vel_MW_M31, 3))"
   ]
  },
  {
   "cell_type": "markdown",
   "id": "9a1ed0ae",
   "metadata": {},
   "source": [
    "## Q6 part 3"
   ]
  },
  {
   "cell_type": "code",
   "execution_count": 13,
   "id": "3e718fbf",
   "metadata": {},
   "outputs": [
    {
     "name": "stdout",
     "output_type": "stream",
     "text": [
      "201.083 kpc\n"
     ]
    }
   ],
   "source": [
    "rel_sep_M33_M31 = np.sqrt(np.sum((M31_COM_p - M33_COM_p)**2))\n",
    "print(np.round(rel_sep_M33_M31, 3))"
   ]
  },
  {
   "cell_type": "code",
   "execution_count": 15,
   "id": "77913286",
   "metadata": {},
   "outputs": [
    {
     "name": "stdout",
     "output_type": "stream",
     "text": [
      "199.414 km / s\n"
     ]
    }
   ],
   "source": [
    "rel_vel_M33_M31 = np.sqrt(np.sum((M31_COM_v - M33_COM_v)**2))\n",
    "print(np.round(rel_vel_M33_M31, 3))"
   ]
  },
  {
   "cell_type": "markdown",
   "id": "d5f97ade",
   "metadata": {},
   "source": [
    "## Q6 part 4"
   ]
  },
  {
   "cell_type": "markdown",
   "id": "e4f33e3c",
   "metadata": {},
   "source": [
    "To avoid outlying stars."
   ]
  }
 ],
 "metadata": {
  "kernelspec": {
   "display_name": "Python 3 (ipykernel)",
   "language": "python",
   "name": "python3"
  },
  "language_info": {
   "codemirror_mode": {
    "name": "ipython",
    "version": 3
   },
   "file_extension": ".py",
   "mimetype": "text/x-python",
   "name": "python",
   "nbconvert_exporter": "python",
   "pygments_lexer": "ipython3",
   "version": "3.9.12"
  }
 },
 "nbformat": 4,
 "nbformat_minor": 5
}
