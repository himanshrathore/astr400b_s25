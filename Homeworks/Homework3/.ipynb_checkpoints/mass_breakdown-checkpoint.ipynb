{
 "cells": [
  {
   "cell_type": "markdown",
   "id": "c1e5df24",
   "metadata": {},
   "source": [
    "# Mass breakdown of the local group"
   ]
  },
  {
   "cell_type": "code",
   "execution_count": 1,
   "id": "9462bf76",
   "metadata": {},
   "outputs": [],
   "source": [
    "import numpy as np\n",
    "from GalaxyMass import ComponentMass"
   ]
  },
  {
   "cell_type": "markdown",
   "id": "fdd186d7",
   "metadata": {},
   "source": [
    "## Data files"
   ]
  },
  {
   "cell_type": "code",
   "execution_count": 2,
   "id": "affbd5cf",
   "metadata": {},
   "outputs": [],
   "source": [
    "mw = './MW_000.txt'\n",
    "m31 = './M31_000.txt'\n",
    "m33 = './M33_000.txt'"
   ]
  },
  {
   "cell_type": "markdown",
   "id": "9d2bfc98",
   "metadata": {},
   "source": [
    "## Component masses for the MW"
   ]
  },
  {
   "cell_type": "code",
   "execution_count": 6,
   "id": "772dc76c",
   "metadata": {},
   "outputs": [],
   "source": [
    "#halo mass\n",
    "mhalo_mw = ComponentMass(mw, 1)\n",
    "\n",
    "#disk mass\n",
    "mdisk_mw = ComponentMass(mw, 2)\n",
    "\n",
    "#bulge mass\n",
    "mbulge_mw = ComponentMass(mw, 3)\n",
    "\n",
    "#total mass\n",
    "mtot_mw = np.round(mhalo_mw + mdisk_mw + mbulge_mw, 3)\n",
    "\n",
    "#fbar\n",
    "fbar_mw = np.round((mdisk_mw + mbulge_mw)/mtot_mw, 3)"
   ]
  },
  {
   "cell_type": "code",
   "execution_count": 12,
   "id": "2067d796",
   "metadata": {},
   "outputs": [
    {
     "name": "stdout",
     "output_type": "stream",
     "text": [
      "1.975\n",
      "0.075\n",
      "0.01\n",
      "2.06\n",
      "0.041\n"
     ]
    }
   ],
   "source": [
    "print(mhalo_mw)\n",
    "print(mdisk_mw)\n",
    "print(mbulge_mw)\n",
    "print(mtot_mw)\n",
    "print(fbar_mw)"
   ]
  },
  {
   "cell_type": "markdown",
   "id": "6bf14df9",
   "metadata": {},
   "source": [
    "## Component masses for M31"
   ]
  },
  {
   "cell_type": "code",
   "execution_count": 10,
   "id": "48ad9264",
   "metadata": {},
   "outputs": [],
   "source": [
    "#halo mass\n",
    "mhalo_m31 = ComponentMass(m31, 1)\n",
    "\n",
    "#disk mass\n",
    "mdisk_m31 = ComponentMass(m31, 2)\n",
    "\n",
    "#bulge mass\n",
    "mbulge_m31 = ComponentMass(m31, 3)\n",
    "\n",
    "#total mass\n",
    "mtot_m31 = np.round(mhalo_m31 + mdisk_m31 + mbulge_m31, 3)\n",
    "\n",
    "#fbar\n",
    "fbar_m31 = np.round((mdisk_m31 + mbulge_m31)/mtot_m31, 3)"
   ]
  },
  {
   "cell_type": "code",
   "execution_count": 13,
   "id": "635850c3",
   "metadata": {},
   "outputs": [
    {
     "name": "stdout",
     "output_type": "stream",
     "text": [
      "1.921\n",
      "0.12\n",
      "0.019\n",
      "2.06\n",
      "0.067\n"
     ]
    }
   ],
   "source": [
    "print(mhalo_m31)\n",
    "print(mdisk_m31)\n",
    "print(mbulge_m31)\n",
    "print(mtot_m31)\n",
    "print(fbar_m31)"
   ]
  },
  {
   "cell_type": "markdown",
   "id": "884e3d09",
   "metadata": {},
   "source": [
    "## Component masses for M33"
   ]
  },
  {
   "cell_type": "code",
   "execution_count": 11,
   "id": "47b0bd22",
   "metadata": {},
   "outputs": [],
   "source": [
    "#halo mass\n",
    "mhalo_m33 = ComponentMass(m33, 1)\n",
    "\n",
    "#disk mass\n",
    "mdisk_m33 = ComponentMass(m33, 2)\n",
    "\n",
    "#bulge mass\n",
    "mbulge_m33 = 0 #M33 has no bulge\n",
    "\n",
    "#total mass\n",
    "mtot_m33 = np.round(mhalo_m33 + mdisk_m33 + mbulge_m33, 3)\n",
    "\n",
    "#fbar\n",
    "fbar_m33 = np.round((mdisk_m33 + mbulge_m33)/mtot_m33, 3)"
   ]
  },
  {
   "cell_type": "code",
   "execution_count": 14,
   "id": "ce7548da",
   "metadata": {},
   "outputs": [
    {
     "name": "stdout",
     "output_type": "stream",
     "text": [
      "0.187\n",
      "0.009\n",
      "0\n",
      "0.196\n",
      "0.046\n"
     ]
    }
   ],
   "source": [
    "print(mhalo_m33)\n",
    "print(mdisk_m33)\n",
    "print(mbulge_m33)\n",
    "print(mtot_m33)\n",
    "print(fbar_m33)"
   ]
  },
  {
   "cell_type": "markdown",
   "id": "19b079d6",
   "metadata": {},
   "source": [
    "## Local group"
   ]
  },
  {
   "cell_type": "code",
   "execution_count": 15,
   "id": "554aa066",
   "metadata": {},
   "outputs": [
    {
     "name": "stdout",
     "output_type": "stream",
     "text": [
      "4.316\n"
     ]
    }
   ],
   "source": [
    "mtot_lg = np.round(mtot_mw + mtot_m31 + mtot_m33, 3)\n",
    "print(mtot_lg)"
   ]
  },
  {
   "cell_type": "code",
   "execution_count": 16,
   "id": "a8450e88",
   "metadata": {},
   "outputs": [
    {
     "name": "stdout",
     "output_type": "stream",
     "text": [
      "0.054\n"
     ]
    }
   ],
   "source": [
    "fbar_lg = np.round(np.sum(mdisk_mw + mbulge_mw + mdisk_m31 + mbulge_m31 + mdisk_m33 + mbulge_m33)/mtot_lg, 3)\n",
    "print(fbar_lg)"
   ]
  }
 ],
 "metadata": {
  "kernelspec": {
   "display_name": "Python 3 (ipykernel)",
   "language": "python",
   "name": "python3"
  },
  "language_info": {
   "codemirror_mode": {
    "name": "ipython",
    "version": 3
   },
   "file_extension": ".py",
   "mimetype": "text/x-python",
   "name": "python",
   "nbconvert_exporter": "python",
   "pygments_lexer": "ipython3",
   "version": "3.9.12"
  }
 },
 "nbformat": 4,
 "nbformat_minor": 5
}
