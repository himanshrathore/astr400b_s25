{
 "cells": [
  {
   "cell_type": "markdown",
   "id": "24fbb296-78ac-4018-898e-8a45fb886010",
   "metadata": {},
   "source": [
    "# Demonstration of Elliptical Iso-contour Fitting Using Photutils"
   ]
  },
  {
   "cell_type": "markdown",
   "id": "87390f06-ddd1-40c8-9bc4-f26ea718fead",
   "metadata": {},
   "source": [
    "Author: Himansh Rathore <br>\n",
    "Teaching Assistant, <br>\n",
    "ASTR400B: Galaxies & Cosmology, Spring-2025, University of Arizona"
   ]
  },
  {
   "cell_type": "markdown",
   "id": "5c5657ac-cafb-4dc7-93e5-7efb81962911",
   "metadata": {},
   "source": [
    "We will utlize the MW-M31-M33 simulation of van der Marel and Besla et al. 2012, ApJ 753 9. <br> \n",
    "We will try to fit elliptical iso-density contours to the dark matter halo of the Milky Way at t = 0, and derive the properties of these contours."
   ]
  },
  {
   "cell_type": "code",
   "execution_count": 3,
   "id": "56132857-c37d-4bf0-ada8-b7da25f634a9",
   "metadata": {},
   "outputs": [],
   "source": [
    "#necessary imports\n",
    "import numpy as np\n",
    "import matplotlib.pyplot as plt\n",
    "from matplotlib.colors import LogNorm\n",
    "#you would need to install the packages below, uncomment the line below\n",
    "#!pip install photutils\n",
    "from photutils.isophote import EllipseGeometry\n",
    "from photutils.aperture import EllipticalAperture\n",
    "from photutils.isophote import Ellipse"
   ]
  },
  {
   "cell_type": "markdown",
   "id": "9adb6bcb-917f-493c-b957-262038a02546",
   "metadata": {},
   "source": [
    "## Loading snapshot"
   ]
  },
  {
   "cell_type": "code",
   "execution_count": null,
   "id": "a5af4229-b3dd-4ea0-b58b-071d426646c5",
   "metadata": {},
   "outputs": [],
   "source": []
  }
 ],
 "metadata": {
  "kernelspec": {
   "display_name": "Python 3 (ipykernel)",
   "language": "python",
   "name": "python3"
  },
  "language_info": {
   "codemirror_mode": {
    "name": "ipython",
    "version": 3
   },
   "file_extension": ".py",
   "mimetype": "text/x-python",
   "name": "python",
   "nbconvert_exporter": "python",
   "pygments_lexer": "ipython3",
   "version": "3.12.4"
  }
 },
 "nbformat": 4,
 "nbformat_minor": 5
}
